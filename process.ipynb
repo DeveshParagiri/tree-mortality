{
 "cells": [
  {
   "cell_type": "code",
   "execution_count": 1,
   "metadata": {},
   "outputs": [
    {
     "name": "stdout",
     "output_type": "stream",
     "text": [
      "label\n",
      "LIVE    153\n",
      "DEAD    113\n",
      "BARE    103\n",
      "Name: count, dtype: int64\n",
      "\n",
      "Counts for each year:\n",
      "label  BARE  DEAD  LIVE\n",
      "year                   \n",
      "2014     19    23    28\n",
      "2016     16    18    39\n",
      "2018     31    22    24\n",
      "2020     11    24    38\n",
      "2022     26    26    24\n"
     ]
    }
   ],
   "source": [
    "import pandas as pd\n",
    "\n",
    "df = pd.read_csv('labeled3.csv')\n",
    "\n",
    "total_counts = df['label'].value_counts()\n",
    "print(total_counts)\n",
    "\n",
    "yearly_counts = df.groupby(['year', 'label']).size().unstack(fill_value=0)\n",
    "print(\"\\nCounts for each year:\")\n",
    "print(yearly_counts)\n"
   ]
  }
 ],
 "metadata": {
  "kernelspec": {
   "display_name": "env",
   "language": "python",
   "name": "python3"
  },
  "language_info": {
   "codemirror_mode": {
    "name": "ipython",
    "version": 3
   },
   "file_extension": ".py",
   "mimetype": "text/x-python",
   "name": "python",
   "nbconvert_exporter": "python",
   "pygments_lexer": "ipython3",
   "version": "3.13.2"
  }
 },
 "nbformat": 4,
 "nbformat_minor": 2
}
