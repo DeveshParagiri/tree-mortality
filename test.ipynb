{
 "cells": [
  {
   "cell_type": "code",
   "execution_count": 7,
   "metadata": {},
   "outputs": [
    {
     "name": "stdout",
     "output_type": "stream",
     "text": [
      "Coordinates: (np.int64(62), np.int64(100)), Pixel Value: 248\n",
      "Coordinates: (np.int64(61), np.int64(81)), Pixel Value: 249\n",
      "Coordinates: (np.int64(62), np.int64(102)), Pixel Value: 250\n",
      "Coordinates: (np.int64(61), np.int64(80)), Pixel Value: 251\n",
      "Coordinates: (np.int64(62), np.int64(101)), Pixel Value: 254\n"
     ]
    }
   ],
   "source": [
    "from PIL import Image\n",
    "import numpy as np\n",
    "\n",
    "# Load the image\n",
    "image_path = 'preprocessed_output_2014/matched_buffer_2014.png'\n",
    "image = Image.open(image_path)\n",
    "\n",
    "# Convert image to grayscale\n",
    "gray_image = image.convert('L')\n",
    "\n",
    "# Convert the grayscale image to a numpy array\n",
    "image_array = np.array(gray_image)\n",
    "\n",
    "# Flatten the array to make it one-dimensional for easier sorting\n",
    "flat_array = image_array.flatten()\n",
    "\n",
    "# Find the indices of the top 5 lightest pixels\n",
    "# Since we are looking for the lightest, we sort in descending order\n",
    "indices = np.argsort(flat_array)[-5:]\n",
    "\n",
    "# Convert 1D indices back to 2D coordinates\n",
    "rows, cols = image_array.shape\n",
    "top_pixels = [(index // cols, index % cols) for index in indices]\n",
    "\n",
    "# Print the coordinates and their corresponding pixel values\n",
    "for coord in top_pixels:\n",
    "    print(f\"Coordinates: {coord}, Pixel Value: {image_array[coord]}\")"
   ]
  },
  {
   "cell_type": "code",
   "execution_count": 6,
   "metadata": {},
   "outputs": [
    {
     "ename": "UnidentifiedImageError",
     "evalue": "cannot identify image file 'preprocessed_output_2014/matched_buffer_2014.tif'",
     "output_type": "error",
     "traceback": [
      "\u001b[31m---------------------------------------------------------------------------\u001b[39m",
      "\u001b[31mUnidentifiedImageError\u001b[39m                    Traceback (most recent call last)",
      "\u001b[36mCell\u001b[39m\u001b[36m \u001b[39m\u001b[32mIn[6]\u001b[39m\u001b[32m, line 6\u001b[39m\n\u001b[32m      4\u001b[39m \u001b[38;5;66;03m# Load the .tif image\u001b[39;00m\n\u001b[32m      5\u001b[39m image_path = \u001b[33m'\u001b[39m\u001b[33mpreprocessed_output_2014/matched_buffer_2014.tif\u001b[39m\u001b[33m'\u001b[39m  \u001b[38;5;66;03m# Update the path if necessary\u001b[39;00m\n\u001b[32m----> \u001b[39m\u001b[32m6\u001b[39m image = \u001b[43mImage\u001b[49m\u001b[43m.\u001b[49m\u001b[43mopen\u001b[49m\u001b[43m(\u001b[49m\u001b[43mimage_path\u001b[49m\u001b[43m)\u001b[49m\n\u001b[32m      8\u001b[39m \u001b[38;5;66;03m# Convert image to grayscale to find the lightest pixels\u001b[39;00m\n\u001b[32m      9\u001b[39m gray_image = image.convert(\u001b[33m'\u001b[39m\u001b[33mL\u001b[39m\u001b[33m'\u001b[39m)\n",
      "\u001b[36mFile \u001b[39m\u001b[32m~/Research/tree-mortality-v3/env/lib/python3.13/site-packages/PIL/Image.py:3572\u001b[39m, in \u001b[36mopen\u001b[39m\u001b[34m(fp, mode, formats)\u001b[39m\n\u001b[32m   3570\u001b[39m     warnings.warn(message)\n\u001b[32m   3571\u001b[39m msg = \u001b[33m\"\u001b[39m\u001b[33mcannot identify image file \u001b[39m\u001b[38;5;132;01m%r\u001b[39;00m\u001b[33m\"\u001b[39m % (filename \u001b[38;5;28;01mif\u001b[39;00m filename \u001b[38;5;28;01melse\u001b[39;00m fp)\n\u001b[32m-> \u001b[39m\u001b[32m3572\u001b[39m \u001b[38;5;28;01mraise\u001b[39;00m UnidentifiedImageError(msg)\n",
      "\u001b[31mUnidentifiedImageError\u001b[39m: cannot identify image file 'preprocessed_output_2014/matched_buffer_2014.tif'"
     ]
    }
   ],
   "source": [
    "from PIL import Image\n",
    "import numpy as np\n",
    "\n",
    "# Load the .tif image\n",
    "image_path = 'preprocessed_output_2014/matched_buffer_2014.tif'  # Update the path if necessary\n",
    "image = Image.open(image_path)\n",
    "\n",
    "# Convert image to grayscale to find the lightest pixels\n",
    "gray_image = image.convert('L')\n",
    "image_array = np.array(gray_image)\n",
    "\n",
    "# Flatten the array to make it one-dimensional for easier sorting\n",
    "flat_array = image_array.flatten()\n",
    "\n",
    "# Find the indices of the top 5 lightest pixels\n",
    "indices = np.argsort(flat_array)[-5:]\n",
    "\n",
    "# Convert 1D indices back to 2D coordinates\n",
    "rows, cols = image_array.shape\n",
    "top_pixels = [(index // cols, index % cols) for index in indices]\n",
    "\n",
    "# Load the original image again to mark the pixels in color\n",
    "color_image = image.convert('RGB')\n",
    "pixels = color_image.load()\n",
    "\n",
    "# Mark the pixels with red color\n",
    "for coord in top_pixels:\n",
    "    pixels[coord[1], coord[0]] = (255, 0, 0)  # Set to red\n",
    "\n",
    "# Display the modified image\n",
    "color_image.show()\n",
    "\n",
    "# Optionally, save the modified image\n",
    "color_image.save('preprocessed_output_2014/marked_matched_buffer_2014.tif')"
   ]
  },
  {
   "cell_type": "code",
   "execution_count": 8,
   "metadata": {},
   "outputs": [
    {
     "name": "stdout",
     "output_type": "stream",
     "text": [
      "Error: The file could not be opened. Check the file path and file integrity.\n"
     ]
    }
   ],
   "source": [
    "from PIL import Image\n",
    "import numpy as np\n",
    "\n",
    "# Ensure Pillow is up to date and has the necessary support for TIFF files\n",
    "# You might need to restart your Jupyter kernel after installing dependencies\n",
    "\n",
    "# Load the .tif image\n",
    "image_path = '/Users/devparagiri/Research/tree-mortality-v3/preprocessed_output_2014/matched_buffer_2014.tif'  # Full path\n",
    "try:\n",
    "    image = Image.open(image_path)\n",
    "except IOError:\n",
    "    print(\"Error: The file could not be opened. Check the file path and file integrity.\")\n",
    "\n",
    "# Convert image to grayscale to find the lightest pixels\n",
    "gray_image = image.convert('L')\n",
    "image_array = np.array(gray_image)\n",
    "\n",
    "# Flatten the array to make it one-dimensional for easier sorting\n",
    "flat_array = image_array.flatten()\n",
    "\n",
    "# Find the indices of the top 5 lightest pixels\n",
    "indices = np.argsort(flat_array)[-5:]\n",
    "\n",
    "# Convert 1D indices back to 2D coordinates\n",
    "rows, cols = image_array.shape\n",
    "top_pixels = [(index // cols, index % cols) for index in indices]\n",
    "\n",
    "# Load the original image again to mark the pixels in color\n",
    "color_image = image.convert('RGB')\n",
    "pixels = color_image.load()\n",
    "\n",
    "# Mark the pixels with red color\n",
    "for coord in top_pixels:\n",
    "    pixels[coord[1], coord[0]] = (255, 0, 0)  # Set to red\n",
    "\n",
    "# Display the modified image\n",
    "color_image.show()\n",
    "\n",
    "# Save the modified image to a new file to avoid overwriting the original\n",
    "output_path = '/Users/devparagiri/Research/tree-mortality-v3/preprocessed_output_2014/marked_matched_buffer_2014.png'\n",
    "color_image.save(output_path)"
   ]
  },
  {
   "cell_type": "code",
   "execution_count": null,
   "metadata": {},
   "outputs": [],
   "source": []
  }
 ],
 "metadata": {
  "kernelspec": {
   "display_name": "env",
   "language": "python",
   "name": "python3"
  },
  "language_info": {
   "codemirror_mode": {
    "name": "ipython",
    "version": 3
   },
   "file_extension": ".py",
   "mimetype": "text/x-python",
   "name": "python",
   "nbconvert_exporter": "python",
   "pygments_lexer": "ipython3",
   "version": "3.13.2"
  }
 },
 "nbformat": 4,
 "nbformat_minor": 2
}
