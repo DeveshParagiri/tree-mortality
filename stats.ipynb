{
 "cells": [
  {
   "cell_type": "code",
   "execution_count": 2,
   "metadata": {},
   "outputs": [
    {
     "name": "stdout",
     "output_type": "stream",
     "text": [
      "Chi-Square Test of Independence\n",
      "Chi2 statistic = 3688.71\n",
      "Degrees of Freedom = 8\n",
      "P-value = 0.000000\n",
      "\n",
      "Expected Counts (under null hypothesis):\n",
      "          LIVE      DEAD      BARE\n",
      "2014  17810.18  35921.25  71897.57\n",
      "2016  17810.18  35921.25  71897.57\n",
      "2018  17880.21  36062.50  72180.29\n",
      "2020  17880.21  36062.50  72180.29\n",
      "2022  17880.21  36062.50  72180.29\n"
     ]
    }
   ],
   "source": [
    "import pandas as pd\n",
    "from scipy.stats import chi2_contingency\n",
    "\n",
    "# Use the labeled pixel counts (excluding NODATA)\n",
    "data = {\n",
    "    \"LIVE\": [14035, 17560, 18983, 21241, 17442],\n",
    "    \"DEAD\": [41409, 38873, 34204, 31112, 34432],\n",
    "    \"BARE\": [70185, 69196, 72936, 73770, 74249]\n",
    "}\n",
    "years = [2014, 2016, 2018, 2020, 2022]\n",
    "\n",
    "# Construct DataFrame\n",
    "df = pd.DataFrame(data, index=years)\n",
    "\n",
    "# Run Chi-Square Test\n",
    "chi2, p, dof, expected = chi2_contingency(df)\n",
    "\n",
    "# Output\n",
    "print(\"Chi-Square Test of Independence\")\n",
    "print(f\"Chi2 statistic = {chi2:.2f}\")\n",
    "print(f\"Degrees of Freedom = {dof}\")\n",
    "print(f\"P-value = {p:.6f}\")\n",
    "\n",
    "# Optional: show the expected counts table\n",
    "expected_df = pd.DataFrame(expected, index=years, columns=df.columns)\n",
    "print(\"\\nExpected Counts (under null hypothesis):\")\n",
    "print(expected_df.round(2))"
   ]
  },
  {
   "cell_type": "code",
   "execution_count": null,
   "metadata": {},
   "outputs": [],
   "source": []
  },
  {
   "cell_type": "code",
   "execution_count": null,
   "metadata": {},
   "outputs": [],
   "source": []
  },
  {
   "cell_type": "code",
   "execution_count": null,
   "metadata": {},
   "outputs": [],
   "source": []
  },
  {
   "cell_type": "code",
   "execution_count": null,
   "metadata": {},
   "outputs": [],
   "source": []
  }
 ],
 "metadata": {
  "kernelspec": {
   "display_name": "env",
   "language": "python",
   "name": "python3"
  },
  "language_info": {
   "codemirror_mode": {
    "name": "ipython",
    "version": 3
   },
   "file_extension": ".py",
   "mimetype": "text/x-python",
   "name": "python",
   "nbconvert_exporter": "python",
   "pygments_lexer": "ipython3",
   "version": "3.13.2"
  }
 },
 "nbformat": 4,
 "nbformat_minor": 2
}
